{
 "cells": [
  {
   "cell_type": "code",
   "execution_count": 41,
   "id": "ab746601-31bf-49db-8b07-a257f560711e",
   "metadata": {},
   "outputs": [],
   "source": [
    "import sys\n",
    "import numpy as np\n",
    "import matplotlib.pyplot as plt\n",
    "markers = [\"d\", \"o\", \"v\", \"^\", \"<\", \">\", \"1\", \"X\", \"p\", \"P\", \"*\", \"+\"]\n",
    "color = ['blueviolet','blue',\"green\",'orange','red','m']\n",
    "fmt = ['om','og','or','ok','oy','om']\n",
    "bands = ['u','g','r','i','z','y']"
   ]
  },
  {
   "cell_type": "code",
   "execution_count": 2,
   "id": "463f8723-dc47-49c4-a6b1-d6366593fec3",
   "metadata": {},
   "outputs": [],
   "source": [
    "# 使用 seaborn 的颜色调色板\n",
    "import seaborn as sns\n",
    "colors = sns.color_palette(\"bright\", n_colors=3)"
   ]
  },
  {
   "cell_type": "code",
   "execution_count": 3,
   "id": "634982ef-b3d1-44a2-9619-c3b7a7c7a1db",
   "metadata": {},
   "outputs": [],
   "source": [
    "from matplotlib import font_manager\n",
    "font_manager.fontManager.addfont(\"/home/yltang/data/Times_New_Roman.ttf\")\n",
    "plt.style.use('seaborn-v0_8-paper')\n",
    "font1 = {'family': 'Times New Roman',\n",
    "         #'weight': 'normal',\n",
    "         'size':15,\n",
    "         }"
   ]
  },
  {
   "cell_type": "code",
   "execution_count": 18,
   "id": "63e52e8b-bb35-4c8f-9ee6-d12613f5cdde",
   "metadata": {},
   "outputs": [],
   "source": [
    "train_test = \"test\""
   ]
  },
  {
   "cell_type": "code",
   "execution_count": 19,
   "id": "0cbee2a2-7d0e-4242-819c-76e2795adfca",
   "metadata": {},
   "outputs": [],
   "source": [
    "import os\n",
    "import json\n",
    "data_file_dir = f\"/data/yltang/simulated_data_1/data_new/{train_test}_data/data\"\n",
    "data_file_name = []\n",
    "for root, dirs, files in os.walk(data_file_dir, topdown=False):\n",
    "    data_file_name.append(files)"
   ]
  },
  {
   "cell_type": "code",
   "execution_count": 20,
   "id": "7701c9f7-c159-4006-ab19-88a5b39352bf",
   "metadata": {
    "scrolled": true
   },
   "outputs": [
    {
     "data": {
      "text/plain": [
       "[['SNII_test_data.json',\n",
       "  'SNIax_test_data.json',\n",
       "  'SNIa_test_data.json',\n",
       "  'SNIa-91bg_test_data.json',\n",
       "  'KN_test_data.json',\n",
       "  'TDE_test_data.json',\n",
       "  'SNIbc_test_data.json',\n",
       "  'AGN_test_data.json',\n",
       "  'SLSN_test_data.json']]"
      ]
     },
     "execution_count": 20,
     "metadata": {},
     "output_type": "execute_result"
    }
   ],
   "source": [
    "data_file_name"
   ]
  },
  {
   "cell_type": "code",
   "execution_count": 21,
   "id": "0503a62d-f639-4ada-bb25-ca92a8444218",
   "metadata": {},
   "outputs": [],
   "source": [
    "data_file_name = [\n",
    "  f'KN_{train_test}_data.json',\n",
    "  f'SLSN_{train_test}_data.json',\n",
    "  f'SNIa_{train_test}_data.json',\n",
    "  f'SNIa-91bg_{train_test}_data.json',\n",
    "  f'SNIax_{train_test}_data.json',\n",
    "  f'SNIbc_{train_test}_data.json',\n",
    "  f'SNII_{train_test}_data.json',\n",
    "  f'TDE_{train_test}_data.json']"
   ]
  },
  {
   "cell_type": "code",
   "execution_count": 22,
   "id": "4832d2e8-a689-4cc8-a591-b9f90d4371d1",
   "metadata": {},
   "outputs": [],
   "source": [
    "redshift_file_dir = f\"/data/yltang/simulated_data_1/data_new/{train_test}_data/redshift\"\n",
    "redshift_file_name = []\n",
    "for root, dirs, files in os.walk(redshift_file_dir, topdown=False):\n",
    "    redshift_file_name.append(files)"
   ]
  },
  {
   "cell_type": "code",
   "execution_count": 23,
   "id": "5b58f4d4-46eb-4071-a566-9124a008bc43",
   "metadata": {},
   "outputs": [
    {
     "data": {
      "text/plain": [
       "[['SNII_test_redshift.json',\n",
       "  'SLSN_test_redshift.json',\n",
       "  'SNIbc_test_redshift.json',\n",
       "  'SNIax_test_redshift.json',\n",
       "  'SNIa-91bg_test_redshift.json',\n",
       "  'SNIa_test_redshift.json',\n",
       "  'TDE_test_redshift.json',\n",
       "  'AGN_test_redshift.json',\n",
       "  'KN_test_redshift.json']]"
      ]
     },
     "execution_count": 23,
     "metadata": {},
     "output_type": "execute_result"
    }
   ],
   "source": [
    "redshift_file_name"
   ]
  },
  {
   "cell_type": "code",
   "execution_count": 24,
   "id": "9b0a7fe2-efb2-44d5-8633-e8c9260bba5c",
   "metadata": {},
   "outputs": [],
   "source": [
    "redshift_file_name = [\n",
    "  f'KN_{train_test}_redshift.json',\n",
    "  f'SLSN_{train_test}_redshift.json',\n",
    "  f'SNIa_{train_test}_redshift.json',\n",
    "  f'SNIa-91bg_{train_test}_redshift.json',\n",
    "  f'SNIax_{train_test}_redshift.json',\n",
    "  f'SNIbc_{train_test}_redshift.json',\n",
    "  f'SNII_{train_test}_redshift.json',\n",
    "  f'TDE_{train_test}_redshift.json']"
   ]
  },
  {
   "cell_type": "code",
   "execution_count": 25,
   "id": "5fa6b702-cfa5-42e3-a6ca-b081b988aea4",
   "metadata": {},
   "outputs": [],
   "source": [
    "def load_json_file(json_file):\n",
    "    with open(json_file, \"r\") as file:\n",
    "        data = json.load(file)\n",
    "    return data"
   ]
  },
  {
   "cell_type": "code",
   "execution_count": 26,
   "id": "bba6fb44-daa0-491a-94f6-92f6ae1471b4",
   "metadata": {},
   "outputs": [
    {
     "name": "stdout",
     "output_type": "stream",
     "text": [
      "KN_test_redshift.json\n",
      "SLSN_test_redshift.json\n",
      "SNIa_test_redshift.json\n",
      "SNIa-91bg_test_redshift.json\n",
      "SNIax_test_redshift.json\n",
      "SNIbc_test_redshift.json\n",
      "SNII_test_redshift.json\n",
      "TDE_test_redshift.json\n"
     ]
    }
   ],
   "source": [
    "redshift_list = []\n",
    "data_list = [] \n",
    "\n",
    "for i in redshift_file_name[:]:\n",
    "    print(i)\n",
    "    redshift = load_json_file(redshift_file_dir+\"/\"+i)\n",
    "    redshift_list.append(redshift)\n",
    "\n",
    "for i in data_file_name[:]:\n",
    "    data = load_json_file(data_file_dir+\"/\"+i)\n",
    "    data_list.append(data)"
   ]
  },
  {
   "cell_type": "code",
   "execution_count": 27,
   "id": "07ad5568-1d7d-4306-8709-accbb0b7c85c",
   "metadata": {},
   "outputs": [
    {
     "data": {
      "text/plain": [
       "(8, 8)"
      ]
     },
     "execution_count": 27,
     "metadata": {},
     "output_type": "execute_result"
    }
   ],
   "source": [
    "len(data_list), len(redshift_list)"
   ]
  },
  {
   "cell_type": "code",
   "execution_count": 28,
   "id": "9f4032b5-38c4-494d-926a-f70edc97e3bf",
   "metadata": {},
   "outputs": [
    {
     "data": {
      "text/plain": [
       "2800"
      ]
     },
     "execution_count": 28,
     "metadata": {},
     "output_type": "execute_result"
    }
   ],
   "source": [
    "len(data_list[0])"
   ]
  },
  {
   "cell_type": "code",
   "execution_count": 29,
   "id": "b9ba7498-1e18-4106-a084-85b1a4f3bb57",
   "metadata": {},
   "outputs": [
    {
     "data": {
      "text/plain": [
       "[1, 2, 3, 1, 2, 3]"
      ]
     },
     "execution_count": 29,
     "metadata": {},
     "output_type": "execute_result"
    }
   ],
   "source": [
    "import numpy as np\n",
    "a = [1,2,3]\n",
    "b = [1,2,3]\n",
    "a+b"
   ]
  },
  {
   "cell_type": "code",
   "execution_count": 30,
   "id": "71212487-7504-4aa2-83ce-40443e62de7b",
   "metadata": {},
   "outputs": [
    {
     "name": "stdout",
     "output_type": "stream",
     "text": [
      "2800\n",
      "label 2800\n",
      "3500\n",
      "label 3500\n",
      "3000\n",
      "label 3000\n",
      "1552\n",
      "label 1552\n",
      "1354\n",
      "label 1354\n",
      "441\n",
      "label 441\n",
      "1739\n",
      "label 1739\n",
      "3800\n",
      "label 3800\n"
     ]
    }
   ],
   "source": [
    "# 合并json文件\n",
    "data = data_list[0]\n",
    "print(len(data))\n",
    "label = list(np.zeros(shape=(len(data),)))\n",
    "print(\"label\",len(label))\n",
    "\n",
    "for i in range(len(data_list)-1):\n",
    "    print(len(data_list[i+1]))\n",
    "    label_ = list(np.zeros(shape=(len(data_list[i+1]),))+i+1)\n",
    "    print(\"label\",len(label_))\n",
    "    data = data + data_list[i+1]\n",
    "    label = label + label_"
   ]
  },
  {
   "cell_type": "code",
   "execution_count": 17,
   "id": "8761b041-8e8b-4b06-a277-86463c5680da",
   "metadata": {},
   "outputs": [],
   "source": [
    "redshift_info = redshift_list[0]\n",
    "for i in range(len(redshift_list)-1):\n",
    "    redshift_info = redshift_info + redshift_list[i+1]\n",
    "\n",
    "redshift_info = redshift_info + redshift_info"
   ]
  },
  {
   "cell_type": "code",
   "execution_count": 31,
   "id": "66209d14-9292-4664-9b4f-53f76f350b1f",
   "metadata": {},
   "outputs": [],
   "source": [
    "redshift_info_ = redshift_list[0]\n",
    "for i in range(len(redshift_list)-1):\n",
    "    redshift_info_ = redshift_info_ + redshift_list[i+1]\n",
    "\n",
    "redshift_info_ = redshift_info_ + redshift_info_"
   ]
  },
  {
   "cell_type": "code",
   "execution_count": 32,
   "id": "40f3b4e1-78ca-4bdd-9796-913050f4fca6",
   "metadata": {},
   "outputs": [
    {
     "data": {
      "text/plain": [
       "(6700, 36372)"
      ]
     },
     "execution_count": 32,
     "metadata": {},
     "output_type": "execute_result"
    }
   ],
   "source": [
    "len(redshift_info), len(redshift_info_)"
   ]
  },
  {
   "cell_type": "code",
   "execution_count": 33,
   "id": "2a5e6583-9f24-4d59-9c24-0aeed559bc09",
   "metadata": {},
   "outputs": [],
   "source": [
    "redshift_info_ = redshift_info_[200:]"
   ]
  },
  {
   "cell_type": "code",
   "execution_count": 34,
   "id": "83cab313-40d6-44c1-8c5f-891571dc6f08",
   "metadata": {},
   "outputs": [],
   "source": [
    "import random\n",
    "\n",
    "def get_shuffled_list(lst):\n",
    "    # 复制列表并打乱\n",
    "    shuffled_lst = lst[:]\n",
    "    random.shuffle(shuffled_lst)\n",
    "    return shuffled_lst\n",
    "\n",
    "\n",
    "# 获得打乱后的列表并打印结果\n",
    "redshift_info_ = get_shuffled_list(redshift_info_)"
   ]
  },
  {
   "cell_type": "code",
   "execution_count": 35,
   "id": "b883f12a-56d9-4282-a787-2df317777b77",
   "metadata": {},
   "outputs": [
    {
     "data": {
      "text/plain": [
       "36172"
      ]
     },
     "execution_count": 35,
     "metadata": {},
     "output_type": "execute_result"
    }
   ],
   "source": [
    "len(redshift_info_)"
   ]
  },
  {
   "cell_type": "code",
   "execution_count": 45,
   "id": "ab0cd7f6-4403-4910-ae61-13bd0515ed9a",
   "metadata": {},
   "outputs": [
    {
     "data": {
      "image/png": "[encoded data removed]",
      "text/plain": [
       "<Figure size 800x600 with 1 Axes>"
      ]
     },
     "metadata": {},
     "output_type": "display_data"
    }
   ],
   "source": [
    "# 绘图比较三个数据集之间的红移分布差别\n",
    "# 共享y轴\n",
    "figure,ax= plt.subplots(1,1,figsize=(8,6),sharey=True)\n",
    "\n",
    "#创建制图数据\n",
    "\n",
    "ax.hist(redshift_info, bins=3, alpha=0.7, color=colors[0], label=\"Labeled training data\")\n",
    "ax.hist(redshift_info_[18000:],bins=8, alpha=1,  histtype=\"step\", linewidth=1.2, color=colors[1], label=\"Unlabeled training data\")\n",
    "ax.hist(redshift_info_[:18000], bins=8, alpha=0.2, color=colors[2],edgecolor='black', label=\"Test data\")\n",
    "\n",
    "\n",
    "plt.xticks(fontsize=\"xx-large\",fontproperties=\"Times New Roman\")\n",
    "plt.yticks(fontsize=\"xx-large\",fontproperties=\"Times New Roman\")\n",
    "    \n",
    "plt.xlabel(\"Redshift\",fontsize=\"xx-large\",labelpad=10,fontproperties=\"Times New Roman\")\n",
    "plt.ylabel(\"Samples\",fontsize=\"xx-large\",labelpad=10,fontproperties=\"Times New Roman\")\n",
    "\n",
    "plt.legend(fontsize=\"x-large\",loc=\"upper right\",\n",
    "        prop=font1,\n",
    "         borderaxespad=0.)\n",
    "\n",
    "\n",
    "#plt.savefig(f\"latent_distribution_{number}.jpg\",bbox_inches='tight')\n",
    "plt.savefig(f\"redshift_distribution.jpg\",bbox_inches='tight')\n",
    "plt.show()"
   ]
  },
  {
   "cell_type": "code",
   "execution_count": 19,
   "id": "733f6fbd-4d6d-41f3-be6c-1a0c97e2a6fa",
   "metadata": {},
   "outputs": [
    {
     "name": "stdout",
     "output_type": "stream",
     "text": [
      "19686 19686 19686\n"
     ]
    }
   ],
   "source": [
    "print(len(data), len(redshift_info), len(label))"
   ]
  },
  {
   "cell_type": "markdown",
   "id": "b75a799f-c90d-4327-a2a1-0d881c9cc811",
   "metadata": {},
   "source": [
    "最终要保存的文件：\n",
    "data, label and redshift"
   ]
  },
  {
   "cell_type": "code",
   "execution_count": 16,
   "id": "21e9d40c-f185-4b5f-a7a4-f87c9274d28e",
   "metadata": {},
   "outputs": [],
   "source": [
    "import json\n",
    "# 将三个数据集和对应的红移参数保存到JSON文件\n",
    "with open(f'/home/yltang/data/simulated_data_1/data_new/data_v1/train_label_data.json', 'w') as file:\n",
    "    json.dump(data, file)\n",
    "with open(f'/home/yltang/data/simulated_data_1/data_new/data_v1/train_label_label.json', 'w') as file:\n",
    "   json.dump(label, file)\n",
    "with open(f'/home/yltang/data/simulated_data_1/data_new/data_v1/train_label_redshift.json', 'w') as file:\n",
    "    json.dump(redshift_info, file)"
   ]
  },
  {
   "cell_type": "code",
   "execution_count": null,
   "id": "791d3dca-f442-495d-9e32-78dceaca57d4",
   "metadata": {},
   "outputs": [],
   "source": []
  }
 ],
 "metadata": {
  "kernelspec": {
   "display_name": "Python 3 (ipykernel)",
   "language": "python",
   "name": "python3"
  },
  "language_info": {
   "codemirror_mode": {
    "name": "ipython",
    "version": 3
   },
   "file_extension": ".py",
   "mimetype": "text/x-python",
   "name": "python",
   "nbconvert_exporter": "python",
   "pygments_lexer": "ipython3",
   "version": "3.9.20"
  }
 },
 "nbformat": 4,
 "nbformat_minor": 5
}
